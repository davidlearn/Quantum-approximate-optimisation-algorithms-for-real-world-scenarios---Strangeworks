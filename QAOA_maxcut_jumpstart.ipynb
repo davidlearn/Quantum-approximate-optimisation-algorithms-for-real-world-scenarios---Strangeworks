{
 "cells": [
  {
   "cell_type": "markdown",
   "id": "695d4e4a",
   "metadata": {},
   "source": [
    "###  Quantum Approximate Optimisation Algorithms for Real World Scenarios --- Strangeworks\n",
    "#### Womanium 2022 Global Quantum Hackathon\n",
    "#### Augst 8 - 26, 2022\n"
   ]
  },
  {
   "cell_type": "markdown",
   "id": "35aa2f5f",
   "metadata": {},
   "source": [
    "### Team Jumpstart Quantum\n",
    "- David Liu, Discord: 708042604654100561  Github: davidlearn   Email: Liud@pfw.edu\n",
    "- Yiping Wang, Discord: 999347935630348359  Github: wyp7         Email: yipingwang2023@u.northwestern.edu\n",
    "- Jiaqi Guo,   Discord: 1004397306063376485 Github: emrysguo     Email: jiaqiguo@andrew.cmu.edu"
   ]
  },
  {
   "cell_type": "markdown",
   "id": "d16645f5",
   "metadata": {},
   "source": [
    "### Challenge Goal\n",
    "\n",
    "-\n",
    "\n",
    "-\n",
    "\n",
    "-"
   ]
  },
  {
   "cell_type": "markdown",
   "id": "18b311e7",
   "metadata": {},
   "source": [
    "### Part I Introduction\n",
    "\n",
    "The quantum approximaton algorith (QAOA) is the most studied gate model approach for optimization using near-term devices [1].\n",
    "The important paramater for a QAOA circuit is the depath p and qubit size. Another important factor for QAOA to solve graph based optimization is whether the graph is the same or different from hardware connectivity. \n",
    "In this challenge, we first introudce the QAOA and its application in max-cut problems. We then present the experiment results on both ideal and noisy Qiskt quantuom computer simulators and explore how the depth p affects the optimized Hamitonian energy levels for the optinization problems. In addition, we studies whether whole and partical measure outputs from quantum circuits should be averaged out as inputs to the QAOA's classicial optimizer.\n",
    "\n",
    "Further, We also review the current best practice and challenges to optimize and scale up QAOA for large optimization problems.\n"
   ]
  },
  {
   "cell_type": "markdown",
   "id": "dd6fbeac",
   "metadata": {},
   "source": [
    "### Part II QAOA and Max-Cut Introduction\n",
    "\n",
    "### Python Version"
   ]
  },
  {
   "cell_type": "code",
   "execution_count": 1,
   "id": "eab32ea1",
   "metadata": {},
   "outputs": [
    {
     "name": "stdout",
     "output_type": "stream",
     "text": [
      "The current version of python is 3.9.12\n",
      "Please Update Python\n"
     ]
    }
   ],
   "source": [
    "from platform import python_version\n",
    "\n",
    "print(\"The current version of python is \"+python_version())\n",
    "if python_version() != '3.9.11':\n",
    "    print(\"Please Update Python\")"
   ]
  },
  {
   "cell_type": "markdown",
   "id": "1107a1d3",
   "metadata": {},
   "source": [
    "### Install Libraries\n",
    "\n",
    "After running the cell below, you may need to resart the Jupyter notebook for them to take effect. "
   ]
  },
  {
   "cell_type": "code",
   "execution_count": 33,
   "id": "5ba96588",
   "metadata": {},
   "outputs": [
    {
     "name": "stdout",
     "output_type": "stream",
     "text": [
      "Requirement already satisfied: networkx in c:\\users\\liud\\anaconda3\\envs\\qbronze\\lib\\site-packages (2.8.5)\n",
      "Requirement already satisfied: matplotlib in c:\\users\\liud\\appdata\\roaming\\python\\python39\\site-packages (3.5.2)\n",
      "Requirement already satisfied: cycler>=0.10 in c:\\users\\liud\\appdata\\roaming\\python\\python39\\site-packages (from matplotlib) (0.11.0)\n",
      "Requirement already satisfied: numpy>=1.17 in c:\\users\\liud\\appdata\\roaming\\python\\python39\\site-packages (from matplotlib) (1.23.1)\n",
      "Requirement already satisfied: pillow>=6.2.0 in c:\\users\\liud\\appdata\\roaming\\python\\python39\\site-packages (from matplotlib) (9.2.0)\n",
      "Requirement already satisfied: kiwisolver>=1.0.1 in c:\\users\\liud\\appdata\\roaming\\python\\python39\\site-packages (from matplotlib) (1.4.4)\n",
      "Requirement already satisfied: python-dateutil>=2.7 in c:\\users\\liud\\anaconda3\\envs\\qbronze\\lib\\site-packages (from matplotlib) (2.8.2)\n",
      "Requirement already satisfied: fonttools>=4.22.0 in c:\\users\\liud\\appdata\\roaming\\python\\python39\\site-packages (from matplotlib) (4.34.4)\n",
      "Requirement already satisfied: packaging>=20.0 in c:\\users\\liud\\anaconda3\\envs\\qbronze\\lib\\site-packages (from matplotlib) (21.3)\n",
      "Requirement already satisfied: pyparsing>=2.2.1 in c:\\users\\liud\\anaconda3\\envs\\qbronze\\lib\\site-packages (from matplotlib) (3.0.4)\n",
      "Requirement already satisfied: six>=1.5 in c:\\users\\liud\\anaconda3\\envs\\qbronze\\lib\\site-packages (from python-dateutil>=2.7->matplotlib) (1.16.0)\n",
      "Requirement already satisfied: pylatexenc in c:\\users\\liud\\appdata\\roaming\\python\\python39\\site-packages (2.10)\n",
      "Requirement already satisfied: qiskit in c:\\users\\liud\\appdata\\roaming\\python\\python39\\site-packages (0.37.0)\n",
      "Requirement already satisfied: qiskit-aer==0.10.4 in c:\\users\\liud\\appdata\\roaming\\python\\python39\\site-packages (from qiskit) (0.10.4)\n",
      "Requirement already satisfied: qiskit-ibmq-provider==0.19.2 in c:\\users\\liud\\appdata\\roaming\\python\\python39\\site-packages (from qiskit) (0.19.2)\n",
      "Requirement already satisfied: qiskit-terra==0.21.0 in c:\\users\\liud\\appdata\\roaming\\python\\python39\\site-packages (from qiskit) (0.21.0)\n",
      "Requirement already satisfied: scipy>=1.0 in c:\\users\\liud\\appdata\\roaming\\python\\python39\\site-packages (from qiskit-aer==0.10.4->qiskit) (1.8.1)\n",
      "Requirement already satisfied: numpy>=1.16.3 in c:\\users\\liud\\appdata\\roaming\\python\\python39\\site-packages (from qiskit-aer==0.10.4->qiskit) (1.23.1)\n",
      "Requirement already satisfied: requests-ntlm>=1.1.0 in c:\\users\\liud\\appdata\\roaming\\python\\python39\\site-packages (from qiskit-ibmq-provider==0.19.2->qiskit) (1.1.0)\n",
      "Requirement already satisfied: websockets>=10.0 in c:\\users\\liud\\appdata\\roaming\\python\\python39\\site-packages (from qiskit-ibmq-provider==0.19.2->qiskit) (10.3)\n",
      "Requirement already satisfied: python-dateutil>=2.8.0 in c:\\users\\liud\\anaconda3\\envs\\qbronze\\lib\\site-packages (from qiskit-ibmq-provider==0.19.2->qiskit) (2.8.2)\n",
      "Requirement already satisfied: urllib3>=1.21.1 in c:\\users\\liud\\appdata\\roaming\\python\\python39\\site-packages (from qiskit-ibmq-provider==0.19.2->qiskit) (1.26.11)\n",
      "Requirement already satisfied: requests>=2.19 in c:\\users\\liud\\appdata\\roaming\\python\\python39\\site-packages (from qiskit-ibmq-provider==0.19.2->qiskit) (2.28.1)\n",
      "Requirement already satisfied: websocket-client>=1.0.1 in c:\\users\\liud\\appdata\\roaming\\python\\python39\\site-packages (from qiskit-ibmq-provider==0.19.2->qiskit) (1.3.3)\n",
      "Requirement already satisfied: sympy>=1.3 in c:\\users\\liud\\appdata\\roaming\\python\\python39\\site-packages (from qiskit-terra==0.21.0->qiskit) (1.10.1)\n",
      "Requirement already satisfied: stevedore>=3.0.0 in c:\\users\\liud\\appdata\\roaming\\python\\python39\\site-packages (from qiskit-terra==0.21.0->qiskit) (4.0.0)\n",
      "Requirement already satisfied: tweedledum<2.0,>=1.1 in c:\\users\\liud\\appdata\\roaming\\python\\python39\\site-packages (from qiskit-terra==0.21.0->qiskit) (1.1.1)\n",
      "Requirement already satisfied: ply>=3.10 in c:\\users\\liud\\appdata\\roaming\\python\\python39\\site-packages (from qiskit-terra==0.21.0->qiskit) (3.11)\n",
      "Requirement already satisfied: retworkx>=0.11.0 in c:\\users\\liud\\appdata\\roaming\\python\\python39\\site-packages (from qiskit-terra==0.21.0->qiskit) (0.11.0)\n",
      "Requirement already satisfied: psutil>=5 in c:\\users\\liud\\appdata\\roaming\\python\\python39\\site-packages (from qiskit-terra==0.21.0->qiskit) (5.9.1)\n",
      "Requirement already satisfied: dill>=0.3 in c:\\users\\liud\\appdata\\roaming\\python\\python39\\site-packages (from qiskit-terra==0.21.0->qiskit) (0.3.5.1)\n",
      "Requirement already satisfied: six>=1.5 in c:\\users\\liud\\anaconda3\\envs\\qbronze\\lib\\site-packages (from python-dateutil>=2.8.0->qiskit-ibmq-provider==0.19.2->qiskit) (1.16.0)\n",
      "Requirement already satisfied: idna<4,>=2.5 in c:\\users\\liud\\appdata\\roaming\\python\\python39\\site-packages (from requests>=2.19->qiskit-ibmq-provider==0.19.2->qiskit) (3.3)\n",
      "Requirement already satisfied: certifi>=2017.4.17 in c:\\users\\liud\\anaconda3\\envs\\qbronze\\lib\\site-packages (from requests>=2.19->qiskit-ibmq-provider==0.19.2->qiskit) (2022.6.15)\n",
      "Requirement already satisfied: charset-normalizer<3,>=2 in c:\\users\\liud\\appdata\\roaming\\python\\python39\\site-packages (from requests>=2.19->qiskit-ibmq-provider==0.19.2->qiskit) (2.1.0)\n",
      "Requirement already satisfied: cryptography>=1.3 in c:\\users\\liud\\appdata\\roaming\\python\\python39\\site-packages (from requests-ntlm>=1.1.0->qiskit-ibmq-provider==0.19.2->qiskit) (37.0.4)\n",
      "Requirement already satisfied: ntlm-auth>=1.0.2 in c:\\users\\liud\\appdata\\roaming\\python\\python39\\site-packages (from requests-ntlm>=1.1.0->qiskit-ibmq-provider==0.19.2->qiskit) (1.5.0)\n",
      "Requirement already satisfied: pbr!=2.1.0,>=2.0.0 in c:\\users\\liud\\appdata\\roaming\\python\\python39\\site-packages (from stevedore>=3.0.0->qiskit-terra==0.21.0->qiskit) (5.9.0)\n",
      "Requirement already satisfied: mpmath>=0.19 in c:\\users\\liud\\appdata\\roaming\\python\\python39\\site-packages (from sympy>=1.3->qiskit-terra==0.21.0->qiskit) (1.2.1)\n",
      "Requirement already satisfied: cffi>=1.12 in c:\\users\\liud\\anaconda3\\envs\\qbronze\\lib\\site-packages (from cryptography>=1.3->requests-ntlm>=1.1.0->qiskit-ibmq-provider==0.19.2->qiskit) (1.15.0)\n",
      "Requirement already satisfied: pycparser in c:\\users\\liud\\anaconda3\\envs\\qbronze\\lib\\site-packages (from cffi>=1.12->cryptography>=1.3->requests-ntlm>=1.1.0->qiskit-ibmq-provider==0.19.2->qiskit) (2.21)\n"
     ]
    }
   ],
   "source": [
    "!pip install networkx\n",
    "!pip install matplotlib\n",
    "!pip install pylatexenc\n",
    "!pip install qiskit"
   ]
  },
  {
   "cell_type": "markdown",
   "id": "5bde9b57",
   "metadata": {},
   "source": [
    "### Quantum Approximate Optimisation Algorithm (QAOA)\n",
    "\n",
    "This short tutorial is borrowed heavily from the qiskit webpage - https://qiskit.org/textbook/ch-applications/qaoa.html. \n",
    "\n",
    "This implementation, while currently running on your local computer, is written in such a way that we only have to change the \"backend\" and it will run on IBMs superconducting quantum hardware."
   ]
  },
  {
   "cell_type": "code",
   "execution_count": 2,
   "id": "80604175",
   "metadata": {},
   "outputs": [],
   "source": [
    "import networkx as nx\n",
    "import matplotlib.pyplot as plt"
   ]
  },
  {
   "cell_type": "markdown",
   "id": "36189c64",
   "metadata": {},
   "source": [
    "### Max-Cut and Weighted Mac-Cut problem \n",
    "\n",
    "A Max-Cut problem involves partitioning nodes of a graph into two sets, such that the number of edges between the sets is maximum. The example below has a graph with four nodes and some of the ways in which it can be partitioned into two sets, \"red\" and \"blue\" is shown."
   ]
  },
  {
   "cell_type": "code",
   "execution_count": 3,
   "id": "6c2386d6",
   "metadata": {},
   "outputs": [
    {
     "data": {
      "image/png": "[encoded data removed]",
      "text/plain": [
       "<Figure size 864x360 with 4 Axes>"
      ]
     },
     "metadata": {},
     "output_type": "display_data"
    }
   ],
   "source": [
    "G = nx.Graph()\n",
    "G.add_nodes_from([0, 1, 2, 3])\n",
    "G.add_edges_from([(0, 1), (1, 2), (2, 3), (3, 0)])\n",
    "\n",
    "fig, axes = plt.subplots(nrows=1, ncols=4,figsize=(12,5))\n",
    "plt.subplot(1, 4, 1)\n",
    "color_map = ['red','red','red','red']\n",
    "nx.draw(G, node_color=color_map, with_labels=True, alpha=0.8, node_size=500)\n",
    "\n",
    "plt.subplot(1, 4, 2)\n",
    "color_map = ['red','blue','red','red']\n",
    "nx.draw(G, node_color=color_map, with_labels=True, alpha=0.8, node_size=500)\n",
    "\n",
    "plt.subplot(1, 4, 3)\n",
    "color_map = ['blue','blue','red','red']\n",
    "nx.draw(G, node_color=color_map, with_labels=True, alpha=0.8, node_size=500)\n",
    "\n",
    "plt.subplot(1, 4, 4)\n",
    "color_map = ['blue','red','blue','red']\n",
    "nx.draw(G, node_color=color_map, with_labels=True, alpha=0.8, node_size=500)"
   ]
  },
  {
   "cell_type": "markdown",
   "id": "1cd3bc08",
   "metadata": {},
   "source": [
    "For 4 nodes, as each node can be assigned to either the \"red\" or \"blue\" sets, there are $2^4=16$ possible assigments, out of which we have to find one that gives maximum number of edges between the sets \"red\" and \"blue\". The number of such edges between two sets in the figure, as we go from left to right, are 0, 2, 2, and 4. We can see, after enumerating all possible $2^4=16$ assignments, that the rightmost figure is the assignment that gives the maximum number of edges between the two sets. Hence if we encode \"red\" as 0 and \"blue\" as 1, the bitstrings \"0101\" and \"1010\" that represent the assignment of nodes to either set are the solutions.   "
   ]
  },
  {
   "cell_type": "markdown",
   "id": "9c830a4f",
   "metadata": {},
   "source": [
    "As you may have realized, as the number of nodes in the graph increases, the number of possible assignments \n",
    "that you have to examine to find the solution increases exponentially. If N is the number of nodes, the number of solutions grows as: $2^N$."
   ]
  },
  {
   "cell_type": "markdown",
   "id": "ddc24985",
   "metadata": {},
   "source": [
    "## QAOA\n",
    "\n",
    "QAOA (Quantum Approximate Optimization Algorithm) introduced by Farhi et al.[1] is a quantum algorithm that attempts to \n",
    "solve such combinatorial problems.<br> \n",
    "\n",
    "It is a variational algorithm that uses a unitary $U(\\boldsymbol{\\beta}, \\boldsymbol{\\gamma})$ characterized by the parameters \n",
    "$(\\boldsymbol{\\beta}, \\boldsymbol{\\gamma})$ to prepare a quantum state $\\lvert \\psi(\\boldsymbol{\\beta}, \\boldsymbol{\\gamma}) \\rangle$. \n",
    "The goal of the algorithm\n",
    "is to find optimal parameters $(\\boldsymbol{\\beta}_{opt}, \\boldsymbol{\\gamma}_{opt})$ such that the \n",
    "quantum state $\\lvert \\psi(\\boldsymbol{\\beta}_{opt}, \\boldsymbol{\\gamma}_{opt}) \\rangle$ encodes the solution to the problem. \n",
    "\n",
    "The unitary $U(\\boldsymbol{\\beta}, \\boldsymbol{\\gamma})$ has a specific form and is composed of two unitaries \n",
    "$U(\\boldsymbol{\\beta}) = e^{-i \\boldsymbol{\\beta} H_B}$ and $U(\\boldsymbol{\\gamma}) = e^{-i \\boldsymbol{\\gamma} H_P}$\n",
    "where $H_B$ is the mixing Hamiltonian and $H_P$ is the problem Hamiltonian (defined below). Such a choice of unitary drives its inspiration \n",
    "from a related scheme called quantum annealing.\n",
    "\n",
    "The state is prepared by applying these unitaries as alternating blocks of the two unitaries applied $p$ times such that \n",
    "\n",
    "$$\\lvert \\psi(\\boldsymbol{\\beta}, \\boldsymbol{\\gamma}) \\rangle = \\underbrace{U(\\boldsymbol{\\beta}) U(\\boldsymbol{\\gamma}) \n",
    "                                            \\cdots U(\\boldsymbol{\\beta}) U(\\boldsymbol{\\gamma})}_{p \\; \\text{times}} \n",
    "\\lvert \\psi_0 \\rangle$$\n",
    "\n",
    "where $\\lvert \\psi_0 \\rangle$ is a suitable initial state. \n",
    "\n",
    "We will demonstrate these steps using the Max-Cut problem discussed above. For that we would first define\n",
    "the underlying graph of the problem."
   ]
  },
  {
   "cell_type": "markdown",
   "id": "f3d86f23",
   "metadata": {},
   "source": [
    "### First things First, Define the Graph\n",
    "\n",
    "### In the following example, we are actually solving a weighted Max-Cut problem."
   ]
  },
  {
   "cell_type": "code",
   "execution_count": 4,
   "id": "7b5a3b0f",
   "metadata": {},
   "outputs": [
    {
     "data": {
      "image/png": "[encoded data removed]",
      "text/plain": [
       "<Figure size 576x360 with 1 Axes>"
      ]
     },
     "metadata": {},
     "output_type": "display_data"
    }
   ],
   "source": [
    "import networkx as nx\n",
    "import matplotlib.pyplot as plt\n",
    "import random\n",
    "from itertools import combinations, groupby\n",
    "\n",
    "# Number of nodes in the graph. Directly corresponds to the number of qubits\n",
    "# Be careful and don't make this number too big, your computer may crash. \n",
    "# The classical computational cost of simulating this (on classical hardware),\n",
    "# scales as 2^nodes. There is a reason that we need quantum computers!\n",
    "nodes = 4\n",
    "\n",
    "# Energy cost for having node occupied. It is negative so it is favourable for having this occupied.\n",
    "weights_nodes = [-2,-2,-2,-2]\n",
    "    \n",
    "# Cost for having two connected nodes occupied. This may counteract the positive benefit (weights_nodes)\n",
    "# for having the nodes occupied, and leads to the complexity for the problem.\n",
    "weights_edges = [1,2,2,1]\n",
    "\n",
    "random.seed(1)\n",
    "\n",
    "G = nx.Graph()\n",
    "for nn in range(0,nodes):\n",
    "    G.add_nodes_from([(nn,{'weight': weights_nodes[nn]})])\n",
    "    \n",
    "\n",
    "edges = combinations(range(nodes), 2)\n",
    "iter=0\n",
    "for _, node_edges in groupby(edges, key=lambda x: x[0]):\n",
    "    node_edges = list(node_edges)\n",
    "    random_edge = random.choice(node_edges)\n",
    "    G.add_edges_from([(random_edge[0], random_edge[1],{'weight': weights_edges[iter]})])\n",
    "    iter += 1\n",
    "\n",
    "    for e in node_edges:\n",
    "        if random.random() < 0.4:\n",
    "            G.add_edges_from([(e[0], e[1],{'weight': weights_edges[iter]})])\n",
    "            iter += 1\n",
    "\n",
    "\n",
    "plt.figure(figsize=(8,5))\n",
    "nx.draw(G, node_color='lightblue', \n",
    "        with_labels=True, \n",
    "        node_size=500)\n"
   ]
  },
  {
   "cell_type": "markdown",
   "id": "7d08b520",
   "metadata": {},
   "source": [
    "The problem Hamiltonian specific to the Max-Cut problem up to a constant here is:\n",
    "\n",
    "$$\n",
    "H_P = \\frac{1}{2}\\big(Z_0 \\otimes Z_1 \\otimes I_2 \\otimes I_3\\big) + \n",
    "        \\frac{2}{2}\\big(I_0 \\otimes Z_1 \\otimes Z_2 \\otimes I_3\\big) +\n",
    "        \\frac{1}{2}\\big(Z_0 \\otimes I_1 \\otimes I_2 \\otimes Z_3\\big) +\n",
    "        \\frac{2}{2}\\big(I_0 \\otimes I_1 \\otimes Z_2 \\otimes Z_3\\big) \\\\\n",
    "            \\\\\n",
    "            \\\\\n",
    "        -\\big(Z_0 \\otimes I_1 \\otimes I_2 \\otimes I_3\\big)  \n",
    "        -\\big(I_0 \\otimes Z_1 \\otimes I_2 \\otimes I_3\\big) \n",
    "        -\\big(I_0 \\otimes I_1 \\otimes Z_2 \\otimes I_3\\big)\n",
    "        -\\big(I_0 \\otimes I_1 \\otimes I_2 \\otimes Z_3\\big)\n",
    "$$\n",
    "\n",
    "To contruct such a Hamiltonian for a problem, one needs to follow a few steps that we'll cover in later sections of this page."
   ]
  },
  {
   "cell_type": "markdown",
   "id": "7bd5cefe",
   "metadata": {},
   "source": [
    "#### Exact Solution\n",
    "\n",
    "In this section we find the exact ground state of the above Hamiltonian by finding the eigenstates with the lowest energy. This only works for a small number of qubits, due to the exponential scaling of the computational complexity, but it is useful for benchmarking the QAOA algorithm that we will describe below. "
   ]
  },
  {
   "cell_type": "code",
   "execution_count": 62,
   "id": "4adff0c0",
   "metadata": {},
   "outputs": [
    {
     "name": "stdout",
     "output_type": "stream",
     "text": [
      "The cost of the optimal solution is -4.0\n",
      "Nodes [[ 6.43597402e-17+0.j]\n",
      " [ 2.56071906e-17+0.j]\n",
      " [-9.15072734e-18+0.j]\n",
      " [-1.68964511e-16+0.j]\n",
      " [ 4.20113450e-16+0.j]\n",
      " [-9.70420526e-01+0.j]\n",
      " [ 3.01084489e-17+0.j]\n",
      " [-1.35651500e-16+0.j]\n",
      " [ 2.82037618e-16+0.j]\n",
      " [-6.18502793e-17+0.j]\n",
      " [-2.41420801e-01+0.j]\n",
      " [ 8.38260027e-17+0.j]\n",
      " [ 1.29778747e-16+0.j]\n",
      " [-1.61748782e-16+0.j]\n",
      " [ 1.00612341e-16+0.j]\n",
      " [ 1.22178741e-16+0.j]]\n"
     ]
    }
   ],
   "source": [
    "import numpy as np\n",
    "import scipy.sparse.linalg as sla\n",
    "import copy\n",
    "\n",
    "edges = np.zeros((len(G.edges()),2),dtype=int)\n",
    "we = np.zeros(len(G.edges()),dtype=float)\n",
    "iter = 0\n",
    "for x in G.edges():\n",
    "    edges[iter,0] = x[0]\n",
    "    edges[iter,1] = x[1]\n",
    "    we[iter] = G.edges[x][\"weight\"]\n",
    "    iter = iter + 1\n",
    "\n",
    "wn = np.zeros(len(G.nodes()),dtype=float)\n",
    "iter = 0\n",
    "for i in G.nodes():\n",
    "    wn[iter] = G.nodes[i][\"weight\"]\n",
    "    iter = iter + 1\n",
    "\n",
    "def TensorProd(A):\n",
    "\n",
    "    out = np.kron(A[0],A[1])\n",
    "    for oo in range(2,len(A)):\n",
    "        out = np.kron(out,A[oo])\n",
    "\n",
    "    return out\n",
    "\n",
    "sz = [[1.0,0.0],[0.0,0.0]]\n",
    "\n",
    "A0 = []\n",
    "for n in range(0,nodes):\n",
    "    A0.append(np.eye(2))\n",
    "\n",
    "out = TensorProd(A0)\n",
    "\n",
    "Ham = np.zeros((np.power(2,nodes),np.power(2,nodes)),dtype=float)\n",
    "for p in range(0,nodes):\n",
    "    A = copy.deepcopy(A0)\n",
    "    A[p] = sz\n",
    "    Ham += wn[p] * TensorProd(A)\n",
    "\n",
    "for p in range(0,len(G.edges())):\n",
    "    A = copy.deepcopy(A0)\n",
    "    A[edges[p][0]] = sz\n",
    "    A[edges[p][1]] = sz\n",
    "    Ham += we[p] * TensorProd(A)\n",
    "\n",
    "Egs_exact, V = sla.eigs(Ham, 1, which='SR')\n",
    "\n",
    "print(\"The cost of the optimal solution is \"+str(np.real(Egs_exact[0])))"
   ]
  },
  {
   "cell_type": "markdown",
   "id": "8228df32",
   "metadata": {},
   "source": [
    "How do you interpret the eigenstate vector V? Does it give you the solution in terms of which nodes are occupied?"
   ]
  },
  {
   "cell_type": "markdown",
   "id": "aae7e9b3",
   "metadata": {},
   "source": [
    "### Mixer Hamiltonian and Unitaries\n",
    "\n",
    "The mixer Hamiltonian $H_B$ is usually of the form:\n",
    "\n",
    "$$\n",
    "H_B = \\big(X_0 \\otimes I_1 \\otimes I_2 \\otimes I_3 \\big) + \n",
    "      \\big(I_0 \\otimes X_1 \\otimes I_2 \\otimes I_3 \\big) +\n",
    "      \\big(I_0 \\otimes I_1 \\otimes X_2 \\otimes I_3 \\big) +\n",
    "      \\big(I_0 \\otimes I_1 \\otimes I_2 \\otimes X_3 \\big)\n",
    "$$\n",
    "\n",
    "As individual terms in the summation of $H_P$ and $H_B$ both commute, we can write the unitaries as:\n",
    "\n",
    "$$ U(H_B) = e^{-i \\beta H_B} = e^{-i \\beta X_0}e^{-i \\beta X_1}e^{-i \\beta X_2}e^{-i \\beta X_3}.$$\n",
    "\n",
    "Notice that each term in the product above corresponds to an X-rotation on each qubit. And we can write $U(H_P)$ as:\n",
    "\n",
    "$$ U(H_P) = e^{-i \\gamma H_P} = e^{-i \\gamma Z_0 Z_1}e^{-i \\gamma Z_1 Z_2}e^{-i \\gamma Z_2 Z_3}e^{-i \\gamma Z_0 Z_3}$$\n",
    "\n",
    "Let's now examine what the circuits of the two unitaries look like. "
   ]
  },
  {
   "cell_type": "markdown",
   "id": "0450ec3c",
   "metadata": {},
   "source": [
    "### The Mixing Unitary"
   ]
  },
  {
   "cell_type": "code",
   "execution_count": 6,
   "id": "ab0ad136",
   "metadata": {},
   "outputs": [
    {
     "data": {
      "image/png": "[encoded data removed]",
      "text/plain": [
       "<Figure size 146.797x264.88 with 1 Axes>"
      ]
     },
     "execution_count": 6,
     "metadata": {},
     "output_type": "execute_result"
    }
   ],
   "source": [
    "from qiskit import QuantumCircuit\n",
    "from qiskit.tools.visualization import circuit_drawer\n",
    "from qiskit.circuit import Parameter\n",
    "\n",
    "nqubits = nodes\n",
    "\n",
    "beta = Parameter(\"$\\\\beta$\")\n",
    "qc_mix = QuantumCircuit(nqubits)\n",
    "for i in range(0, nqubits):\n",
    "    qc_mix.rx(2 * beta, i)\n",
    "    \n",
    "qc_mix.draw(\"mpl\")"
   ]
  },
  {
   "cell_type": "markdown",
   "id": "b507c2b9",
   "metadata": {},
   "source": [
    "### The Problem Unitary"
   ]
  },
  {
   "cell_type": "code",
   "execution_count": 7,
   "id": "523837f4",
   "metadata": {},
   "outputs": [
    {
     "data": {
      "image/png": "[encoded data removed]",
      "text/plain": [
       "<Figure size 1049.8x264.88 with 1 Axes>"
      ]
     },
     "execution_count": 7,
     "metadata": {},
     "output_type": "execute_result"
    }
   ],
   "source": [
    "gamma = Parameter(\"$\\\\gamma$\")\n",
    "qc_p = QuantumCircuit(nqubits)\n",
    "for pair in list(G.edges()):  # pairs of nodes\n",
    "    #qc_p.rzz(2 * gamma, pair[0], pair[1])\n",
    "    # multiple the weight for Problem Hamiltonian\n",
    "    qc_p.rzz(2 * gamma*G.edges[pair][\"weight\"], pair[0], pair[1])\n",
    "    qc_p.barrier()\n",
    "    \n",
    "qc_p.decompose().draw(\"mpl\")"
   ]
  },
  {
   "cell_type": "markdown",
   "id": "0a3adb97",
   "metadata": {},
   "source": [
    "### The Initial State\n",
    "\n",
    "The initial state used during QAOA is usually an equal superposition of all the basis states i.e.\n",
    "\n",
    "$$\\lvert \\psi_0 \\rangle = \\bigg(\\frac{1}{\\sqrt{2}}\\big(\\lvert 0 \\rangle + \\lvert 1 \\rangle\\big)\\bigg)^{\\otimes n}$$\n",
    "\n",
    "Such a state, when number of qubits is 4 ($n=4$), can be prepared by applying Hadamard gates starting from an all zero state as shown in \n",
    "the circuit below. "
   ]
  },
  {
   "cell_type": "code",
   "execution_count": 8,
   "id": "df7a2a03",
   "metadata": {},
   "outputs": [
    {
     "data": {
      "image/png": "[encoded data removed]",
      "text/plain": [
       "<Figure size 146.797x264.88 with 1 Axes>"
      ]
     },
     "execution_count": 8,
     "metadata": {},
     "output_type": "execute_result"
    }
   ],
   "source": [
    "qc_0 = QuantumCircuit(nqubits)\n",
    "for i in range(0, nqubits):\n",
    "    qc_0.h(i)\n",
    "    \n",
    "qc_0.draw(\"mpl\")"
   ]
  },
  {
   "cell_type": "markdown",
   "id": "82d758ae",
   "metadata": {},
   "source": [
    "### The QAOA circuit\n",
    "\n",
    "So far we have seen that the preparation of a quantum state during QAOA is composed of three elements\n",
    "- Preparing an initial state\n",
    "- Applying the unitary $U(H_P) = e^{-i \\gamma H_P}$ corresponding to the problem Hamiltonian\n",
    "- Then, applying the mixing unitary $U(H_B) = e^{-i \\beta H_B}$\n",
    "\n",
    "Let's see what it looks like for the example problem:"
   ]
  },
  {
   "cell_type": "code",
   "execution_count": 9,
   "id": "2be4b11c",
   "metadata": {},
   "outputs": [
    {
     "data": {
      "image/png": "[encoded data removed]",
      "text/plain": [
       "<Figure size 929.397x264.88 with 1 Axes>"
      ]
     },
     "execution_count": 9,
     "metadata": {},
     "output_type": "execute_result"
    }
   ],
   "source": [
    "qc_qaoa = QuantumCircuit(nqubits)\n",
    "\n",
    "qc_qaoa.append(qc_0, [i for i in range(0, nqubits)])\n",
    "qc_qaoa.append(qc_p, [i for i in range(0, nqubits)])\n",
    "qc_qaoa.append(qc_mix, [i for i in range(0, nqubits)])\n",
    "\n",
    "#qc_qaoa.decompose().decompose().draw(\"mpl\")\n",
    "qc_qaoa.decompose().draw(\"mpl\")"
   ]
  },
  {
   "cell_type": "markdown",
   "id": "314f75e0",
   "metadata": {},
   "source": [
    "The next step is to find the optimal parameters $(\\boldsymbol{\\beta_{opt}}, \\boldsymbol{\\gamma_{opt}})$ such that the expectation value\n",
    "\n",
    "$$ \\langle \\psi(\\boldsymbol{\\beta}_{opt}, \\boldsymbol{\\gamma}_{opt}) \\rvert H_P \\lvert \n",
    "\\psi(\\boldsymbol{\\beta}_{opt}, \\boldsymbol{\\gamma}_{opt}) \\rangle $$\n",
    "\n",
    "is minimized. Such an expectation can be obtained by doing measurement in the Z-basis. We use a classical optimization algorithm to find the optimal parameters. Following steps are involved as shown in the schematic \n",
    "\n",
    "<img src=\"QAOA_schematic.png\" width=\"600\" height=\"200\" class=\"center\">\n",
    "\n",
    "1. Initialize $\\boldsymbol{\\beta}$ and $\\boldsymbol{\\gamma}$ to suitable real values.\n",
    "2. Repeat until some suitable convergence criteria is met:\n",
    "    1. Prepare the state $\\lvert \\psi(\\boldsymbol{\\beta}, \\boldsymbol{\\gamma}) \\rangle$ using qaoa circuit\n",
    "    2. Measure the state in standard basis\n",
    "    3. Compute $ \\langle \\psi(\\boldsymbol{\\beta}, \\boldsymbol{\\gamma}) \\rvert H_P \\lvert \\psi(\\boldsymbol{\\beta}, \\boldsymbol{\\gamma}) \\rangle $ \n",
    "    4. Find new set of parameters $(\\boldsymbol{\\beta}_{new}, \\boldsymbol{\\gamma}_{new})$ using a classical optimization algorithm\n",
    "    5. Set current parameters $(\\boldsymbol{\\beta}, \\boldsymbol{\\gamma})$ equal to the new parameters \n",
    "      $(\\boldsymbol{\\beta}_{new}, \\boldsymbol{\\gamma}_{new})$\n",
    "\n",
    "The code below implements the steps mentioned above."
   ]
  },
  {
   "cell_type": "code",
   "execution_count": 10,
   "id": "478301be",
   "metadata": {},
   "outputs": [],
   "source": [
    "def maxcut_obj(x, G):\n",
    "    \"\"\"\n",
    "    Given a bitstring as a solution, this function returns\n",
    "    the number of edges shared between the two partitions\n",
    "    of the graph.\n",
    "    \n",
    "    Args:\n",
    "        x: str\n",
    "           solution bitstring\n",
    "           \n",
    "        G: networkx graph\n",
    "    \n",
    "    Returns:\n",
    "        obj: float\n",
    "             Objective\n",
    "    \"\"\"\n",
    "    obj = 0\n",
    "    for i, j in G.edges():\n",
    "        if x[i] == x[j] and x[i] == \"1\":\n",
    "            obj += G.edges[(i,j)][\"weight\"]\n",
    "\n",
    "    for i in G.nodes():\n",
    "        if x[i] == \"1\":\n",
    "            obj += G.nodes[i][\"weight\"]\n",
    "            \n",
    "    return obj\n",
    "            \n",
    "\n",
    "def compute_expectation(counts, G):\n",
    "    \n",
    "    \"\"\"\n",
    "    Computes expectation value based on measurement results\n",
    "    \n",
    "    Args:\n",
    "        counts: dict\n",
    "                key as bitstring, val as count\n",
    "           \n",
    "        G: networkx graph\n",
    "        \n",
    "    Global variable: measure_fract\n",
    "                     only top fraction of counts are averaged\n",
    "    Returns:\n",
    "        avg: float\n",
    "             expectation value\n",
    "    \"\"\"\n",
    "    \n",
    "    avg = 0\n",
    "    sum_count = 0\n",
    "    measured_cuts = []\n",
    "    \n",
    "    if (measure_fract == 1.0):\n",
    "        for bitstring, count in counts.items():\n",
    "            obj = maxcut_obj(bitstring, G)\n",
    "            avg += obj * count\n",
    "            sum_count += count\n",
    "        return avg/sum_count\n",
    "    else:\n",
    "        counts_sorted = dict(sorted(counts.items(), key=lambda item: item[1], reverse=True))\n",
    "        n = int(measure_fract*len(counts_sorted))\n",
    "        counts_fract = dict(list(counts_sorted.items())[0:n])\n",
    "        for bitstring, count in counts_fract.items():\n",
    "            obj = maxcut_obj(bitstring, G)\n",
    "            avg += obj * count\n",
    "            sum_count += count\n",
    "        #print(\"sum_count \" + str(sum_count) )\n",
    "        return avg/sum_count\n",
    "\n",
    "\n",
    "# We will also bring the different circuit components that\n",
    "# build the qaoa circuit under a single function\n",
    "def create_qaoa_circ(G, theta):\n",
    "    \n",
    "    \"\"\"\n",
    "    Creates a parametrized qaoa circuit\n",
    "    \n",
    "    Args:  \n",
    "        G: networkx graph\n",
    "        theta: list\n",
    "               unitary parameters\n",
    "                     \n",
    "    Returns:\n",
    "        qc: qiskit circuit\n",
    "    \"\"\"\n",
    "    \n",
    "    nqubits = len(G.nodes())\n",
    "    p = len(theta)//2  # number of alternating unitaries\n",
    "    qc = QuantumCircuit(nqubits)\n",
    "    \n",
    "    beta = theta[:p]\n",
    "    gamma = theta[p:]\n",
    "    \n",
    "    # initial_state\n",
    "    for i in range(0, nqubits):\n",
    "        qc.h(i)\n",
    "    \n",
    "    for irep in range(0, p):\n",
    "        \n",
    "        # problem unitary\n",
    "        for nod in list(G.nodes()):\n",
    "            qc.rz(2 * gamma[irep]*G.nodes[nod][\"weight\"], nod)\n",
    "            \n",
    "            \n",
    "        for pair in list(G.edges()):\n",
    "            qc.rzz(2 * gamma[irep]*G.edges[pair][\"weight\"], pair[0], pair[1])\n",
    "\n",
    "        # mixer unitary\n",
    "        for i in range(0, nqubits):\n",
    "            qc.rx(2 * beta[irep], i)\n",
    "            \n",
    "    qc.measure_all()\n",
    "        \n",
    "    return qc\n",
    "\n",
    "# Finally we write a function that executes the circuit on the chosen backend\n",
    "def get_expectation(G, backend, shotsin,seed):\n",
    "    \n",
    "    \"\"\"\n",
    "    Runs parametrized circuit\n",
    "    \n",
    "    Args:\n",
    "        G: networkx graph\n",
    "        p: int,\n",
    "           Number of repetitions of unitaries\n",
    "    \"\"\"\n",
    "    \n",
    "    def execute_circ(theta):\n",
    "        \n",
    "        qc = create_qaoa_circ(G, theta)\n",
    "\n",
    "        # We need this step if we want to run on hardware. \n",
    "        # tqc = qiskit.compiler.transpile(qc,backend)\n",
    "        if (noisy_sim == 1):\n",
    "            tqc = transpile(qc,backend)\n",
    "        else:\n",
    "            tqc = qc\n",
    "        counts = backend.run(tqc, seed_simulator=seed,shots = shotsin).result().get_counts() \n",
    "        return compute_expectation(counts, G)\n",
    "       \n",
    "    return execute_circ"
   ]
  },
  {
   "cell_type": "markdown",
   "id": "1064ae75",
   "metadata": {},
   "source": [
    "### Part III Challenge Experiments with Standard Qiskit Simulator\n",
    "\n",
    "Experiments on simulator\n",
    "\n",
    "Here.\n",
    " \n"
   ]
  },
  {
   "cell_type": "code",
   "execution_count": 11,
   "id": "d5d72012",
   "metadata": {},
   "outputs": [],
   "source": [
    "from scipy.optimize import minimize\n",
    "from qiskit import *\n",
    "from qiskit import Aer\n",
    "from qiskit.algorithms.optimizers import COBYLA\n",
    "\n",
    "task_price = 0.25 # price for submitting task to system (in dollars)\n",
    "\n",
    "price_per_CNOT = 0.0001 # price for a single CNOT gate (in dollars)\n",
    "price_per_Zrot = 0.00003 # price for a single Z rotation (in dollars)\n",
    "price_per_Xrot = 0.00008 # price for a single X rotation (in dollars)\n",
    "\n",
    "def run(pp, mfract):\n",
    "    p = pp\n",
    "    measure_fract = mfract\n",
    "    for i in range(4*p):\n",
    "        theta.append(1.0)\n",
    "\n",
    "\n",
    "    expectation = get_expectation(G, backend, shotsin,seed)\n",
    "\n",
    "    options = {'maxiter': maxiter}\n",
    "    res = minimize(expectation,theta,options=options,method='COBYLA')\n",
    "\n",
    "    res\n",
    "    return res\n",
    "\n",
    "def cost_func(res):\n",
    "    price_per_shot = p * (len(G.edges()) * (2* price_per_CNOT + price_per_Zrot) + len(G.nodes()) * price_per_Xrot)\n",
    "\n",
    "    Optim_evals = res.nfev # Number of optimization steps i.e. the number of times the quantum hardware was called.\n",
    "    Meas_shots = shotsin # Number of measurements of quantum hardware i.e. number of times the circuit was applied to the hardware.\n",
    "\n",
    "    cst = (Optim_evals * shotsin * price_per_shot) + task_price\n",
    "    return cst"
   ]
  },
  {
   "cell_type": "markdown",
   "id": "05719e29",
   "metadata": {},
   "source": [
    "####  Standard Simulator p: 1-8, quantum measurefor average top: 100%"
   ]
  },
  {
   "cell_type": "code",
   "execution_count": 46,
   "id": "e515bc63",
   "metadata": {},
   "outputs": [
    {
     "name": "stdout",
     "output_type": "stream",
     "text": [
      "p: [1, 2, 3, 4, 5, 6, 7, 8]\n",
      "energy: [-3.27, -3.93, -3.85, -3.99, -3.96, -3.975, -3.975, -3.975]\n",
      "cost: [22.074, 96.97, 176.578, 304.794, 488.81, 654.97, 890.818, 1196.602]\n",
      "     fun: -3.975\n",
      "   maxcv: 0.0\n",
      " message: 'Optimization terminated successfully.'\n",
      "    nfev: 603\n",
      "  status: 1\n",
      " success: True\n",
      "       x: array([1.87778971, 1.98537645, 1.01425302, 0.99656861, 1.08138494,\n",
      "       0.78135647, 0.97501307, 1.0617774 , 0.99181511, 0.9874668 ,\n",
      "       0.98410078, 0.97585569, 1.01045628, 1.04528593, 1.04678946,\n",
      "       1.01781947, 1.00719372, 1.98483114, 0.87323454, 1.06700171,\n",
      "       0.90418181, 0.97723335, 1.01473676, 1.03262221, 1.04547294,\n",
      "       0.99870386, 0.98704663, 0.99302961, 0.98836853, 1.00743954,\n",
      "       1.01335303, 0.99364587, 1.00902329, 0.9860584 , 0.98460557,\n",
      "       0.98878248, 0.98107426, 0.99920647, 1.0077809 , 0.97473164,\n",
      "       0.98288987, 1.01004912, 0.99233187, 1.00034666, 1.01946863,\n",
      "       0.99840049, 1.00093382, 0.98359094, 0.9971143 , 0.98137041,\n",
      "       0.98529047, 1.00204814, 1.00839751, 1.00414021, 0.98574966,\n",
      "       0.98716233, 0.99906602, 0.97397031, 1.03028385, 0.97994886,\n",
      "       0.99234349, 0.99225853, 0.99795365, 0.98675076])\n"
     ]
    }
   ],
   "source": [
    "backend = Aer.get_backend('qasm_simulator')\n",
    "\n",
    "# Max number of optimisation iterations\n",
    "#maxiter = 100\n",
    "maxiter = 1000\n",
    "# Number of quantum measurements each time the quantum circuit is called\n",
    "shotsin = 200\n",
    "noisy_sim = 0\n",
    "measure_fract = 1.0\n",
    "theta = []\n",
    "energy = []\n",
    "cost = []\n",
    "pv = []\n",
    "\n",
    "# We have random outcomes for the measurements.\n",
    "# So for the simulation it is good practice to seed the random number generator\n",
    "seed = 2\n",
    "# Max number of optimisation iterations\n",
    "#maxiter = 100\n",
    "maxiter = 1000\n",
    "for p in range(1,9):\n",
    "    theta = []\n",
    "    for i in range(4*p):\n",
    "        theta.append(1.0)\n",
    "    quantumC = QuantumCircuit(nqubits)\n",
    "    res = run(p, 1.0)\n",
    "    pv.append(p)\n",
    "    energy.append(res.fun)\n",
    "    cost.append(cost_func(res))\n",
    "\n",
    "print(\"p: \" + str(pv))\n",
    "print(\"energy: \" + str(energy))\n",
    "print(\"cost: \" + str(cost))    \n",
    "print(res)"
   ]
  },
  {
   "cell_type": "markdown",
   "id": "fafb1492",
   "metadata": {},
   "source": [
    "##### Energy and Cost vs Depth p"
   ]
  },
  {
   "cell_type": "code",
   "execution_count": 47,
   "id": "79982b9f",
   "metadata": {},
   "outputs": [
    {
     "data": {
      "image/png": "[encoded data removed]",
      "text/plain": [
       "<Figure size 432x288 with 2 Axes>"
      ]
     },
     "metadata": {
      "needs_background": "light"
     },
     "output_type": "display_data"
    }
   ],
   "source": [
    "fig, (ax1,ax2) = plt.subplots(1, 2)\n",
    "ax1.plot(pv, energy)\n",
    "ax1.set_xlabel('p')\n",
    "ax1.set_ylabel('energy')\n",
    "ax2.plot(pv, cost)\n",
    "ax2.set_xlabel('p')\n",
    "ax2.set_ylabel('cost')\n",
    "plt.subplots_adjust(left=0.1,\n",
    "                    bottom=0.1, \n",
    "                    right=0.9, \n",
    "                    top=0.9, \n",
    "                    wspace=0.4, \n",
    "                    hspace=0.4)\n",
    "      \n",
    "plt.show()"
   ]
  },
  {
   "cell_type": "markdown",
   "id": "a29fb3e4",
   "metadata": {},
   "source": [
    "#### Quantum Measurement for p = 8"
   ]
  },
  {
   "cell_type": "code",
   "execution_count": 48,
   "id": "6d6ff688",
   "metadata": {},
   "outputs": [
    {
     "data": {
      "image/png": "[encoded data removed]",
      "text/plain": [
       "<Figure size 504x360 with 1 Axes>"
      ]
     },
     "execution_count": 48,
     "metadata": {},
     "output_type": "execute_result"
    }
   ],
   "source": [
    "from qiskit.visualization import plot_histogram\n",
    "\n",
    "backend = Aer.get_backend('aer_simulator')\n",
    "\n",
    "qc_res = create_qaoa_circ(G, res.x)\n",
    "\n",
    "counts = backend.run(qc_res, seed_simulator=seed,shots = shotsin).result().get_counts()\n",
    "\n",
    "plot_histogram(counts)"
   ]
  },
  {
   "cell_type": "markdown",
   "id": "4fbc3543",
   "metadata": {},
   "source": [
    "####  Standard Simulator p: 1-8, quantum measurefor average top: 20%"
   ]
  },
  {
   "cell_type": "code",
   "execution_count": 54,
   "id": "757a1bd7",
   "metadata": {},
   "outputs": [
    {
     "name": "stdout",
     "output_type": "stream",
     "text": [
      "p: [1, 2, 3, 4, 5, 6, 7, 8]\n",
      "energy: [-3.27, -3.93, -3.85, -3.99, -3.96, -3.975, -3.975, -3.975]\n",
      "cost: [22.074, 96.97, 176.578, 304.794, 488.81, 654.97, 890.818, 1196.602]\n",
      "     fun: -3.975\n",
      "   maxcv: 0.0\n",
      " message: 'Optimization terminated successfully.'\n",
      "    nfev: 603\n",
      "  status: 1\n",
      " success: True\n",
      "       x: array([1.87778971, 1.98537645, 1.01425302, 0.99656861, 1.08138494,\n",
      "       0.78135647, 0.97501307, 1.0617774 , 0.99181511, 0.9874668 ,\n",
      "       0.98410078, 0.97585569, 1.01045628, 1.04528593, 1.04678946,\n",
      "       1.01781947, 1.00719372, 1.98483114, 0.87323454, 1.06700171,\n",
      "       0.90418181, 0.97723335, 1.01473676, 1.03262221, 1.04547294,\n",
      "       0.99870386, 0.98704663, 0.99302961, 0.98836853, 1.00743954,\n",
      "       1.01335303, 0.99364587, 1.00902329, 0.9860584 , 0.98460557,\n",
      "       0.98878248, 0.98107426, 0.99920647, 1.0077809 , 0.97473164,\n",
      "       0.98288987, 1.01004912, 0.99233187, 1.00034666, 1.01946863,\n",
      "       0.99840049, 1.00093382, 0.98359094, 0.9971143 , 0.98137041,\n",
      "       0.98529047, 1.00204814, 1.00839751, 1.00414021, 0.98574966,\n",
      "       0.98716233, 0.99906602, 0.97397031, 1.03028385, 0.97994886,\n",
      "       0.99234349, 0.99225853, 0.99795365, 0.98675076])\n"
     ]
    }
   ],
   "source": [
    "backend = Aer.get_backend('qasm_simulator')\n",
    "\n",
    "# Max number of optimisation iterations\n",
    "#maxiter = 100\n",
    "maxiter = 1000\n",
    "# Number of quantum measurements each time the quantum circuit is called\n",
    "shotsin = 200\n",
    "noisy_sim = 0\n",
    "measure_fract = 1.0\n",
    "theta = []\n",
    "energy = []\n",
    "cost = []\n",
    "pv = []\n",
    "\n",
    "# We have random outcomes for the measurements.\n",
    "# So for the simulation it is good practice to seed the random number generator\n",
    "seed = 2\n",
    "# Max number of optimisation iterations\n",
    "#maxiter = 100\n",
    "maxiter = 1000\n",
    "for p in range(1,9):\n",
    "    theta = []\n",
    "    for i in range(4*p):\n",
    "        theta.append(1.0)\n",
    "    quantumC = QuantumCircuit(nqubits)\n",
    "    res = run(p, 0.2)\n",
    "    pv.append(p)\n",
    "    energy.append(res.fun)\n",
    "    cost.append(cost_func(res))\n",
    "\n",
    "print(\"p: \" + str(pv))\n",
    "print(\"energy: \" + str(energy))\n",
    "print(\"cost: \" + str(cost))    \n",
    "print(res)"
   ]
  },
  {
   "cell_type": "markdown",
   "id": "2bb7ca20",
   "metadata": {},
   "source": [
    "##### Energy and Cost vs Depth p"
   ]
  },
  {
   "cell_type": "code",
   "execution_count": 57,
   "id": "e6bb2f6a",
   "metadata": {},
   "outputs": [
    {
     "data": {
      "image/png": "[encoded data removed]",
      "text/plain": [
       "<Figure size 432x288 with 2 Axes>"
      ]
     },
     "metadata": {
      "needs_background": "light"
     },
     "output_type": "display_data"
    }
   ],
   "source": [
    "fig, (ax1,ax2) = plt.subplots(1, 2)\n",
    "ax1.plot(pv, energy)\n",
    "ax1.set_xlabel('p')\n",
    "ax1.set_ylabel('energy')\n",
    "ax2.plot(pv, cost)\n",
    "ax2.set_xlabel('p')\n",
    "ax2.set_ylabel('cost')\n",
    "plt.subplots_adjust(left=0.1,\n",
    "                    bottom=0.1, \n",
    "                    right=0.9, \n",
    "                    top=0.9, \n",
    "                    wspace=0.4, \n",
    "                    hspace=0.4)\n",
    "      \n",
    "plt.show()"
   ]
  },
  {
   "cell_type": "markdown",
   "id": "20d9f4a6",
   "metadata": {},
   "source": [
    "#### Quantum Measurement for p = 8"
   ]
  },
  {
   "cell_type": "code",
   "execution_count": 58,
   "id": "1561db89",
   "metadata": {},
   "outputs": [
    {
     "data": {
      "image/png": "[encoded data removed]",
      "text/plain": [
       "<Figure size 504x360 with 1 Axes>"
      ]
     },
     "execution_count": 58,
     "metadata": {},
     "output_type": "execute_result"
    }
   ],
   "source": [
    "from qiskit.visualization import plot_histogram\n",
    "\n",
    "backend = Aer.get_backend('aer_simulator')\n",
    "\n",
    "qc_res = create_qaoa_circ(G, res.x)\n",
    "\n",
    "counts = backend.run(qc_res, seed_simulator=seed,shots = shotsin).result().get_counts()\n",
    "\n",
    "plot_histogram(counts)"
   ]
  },
  {
   "cell_type": "markdown",
   "id": "3e3b3d4c",
   "metadata": {},
   "source": [
    "### Discussion\n",
    "\n",
    "- Both solutions in fact are optimal.\n",
    "\n",
    "- Rev.fun calculates the energy value of Hamiltonian with probablity. For the final results, we need to apply bistring results to the actual max-cut problem to obtain the actual values and compare them with the exact solutions.\n",
    "\n",
    "- Without know the eact solutions for the large problem, we may need to see the trend pf the solution provided by p and determin the best results we can get,"
   ]
  },
  {
   "cell_type": "markdown",
   "id": "c3b7a9ad",
   "metadata": {},
   "source": [
    "### Part IV Challenge Experiments with Qiskit Noisy Simulator\n",
    "\n",
    "Experiments on noisy simulator\n",
    "\n",
    "Here."
   ]
  },
  {
   "cell_type": "code",
   "execution_count": 50,
   "id": "37f1aede",
   "metadata": {},
   "outputs": [],
   "source": [
    "from scipy.optimize import minimize\n",
    "from qiskit import Aer\n",
    "from qiskit.algorithms.optimizers import COBYLA\n",
    "from qiskit.providers.fake_provider import FakeManilaV2\n"
   ]
  },
  {
   "cell_type": "markdown",
   "id": "49aed525",
   "metadata": {},
   "source": [
    "####  Noisy Simulator p: 1-8, quantum measurefor average top: 100%"
   ]
  },
  {
   "cell_type": "code",
   "execution_count": 51,
   "id": "ceb1727e",
   "metadata": {},
   "outputs": [
    {
     "name": "stdout",
     "output_type": "stream",
     "text": [
      "p: [1, 2, 3, 4, 5, 6, 7, 8]\n",
      "energy: [-3.27, -3.93, -3.85, -3.99, -3.96, -3.975, -3.975, -3.975]\n",
      "cost: [22.074, 96.97, 176.578, 304.794, 488.81, 654.97, 890.818, 1196.602]\n",
      "     fun: -3.975\n",
      "   maxcv: 0.0\n",
      " message: 'Optimization terminated successfully.'\n",
      "    nfev: 603\n",
      "  status: 1\n",
      " success: True\n",
      "       x: array([1.87778971, 1.98537645, 1.01425302, 0.99656861, 1.08138494,\n",
      "       0.78135647, 0.97501307, 1.0617774 , 0.99181511, 0.9874668 ,\n",
      "       0.98410078, 0.97585569, 1.01045628, 1.04528593, 1.04678946,\n",
      "       1.01781947, 1.00719372, 1.98483114, 0.87323454, 1.06700171,\n",
      "       0.90418181, 0.97723335, 1.01473676, 1.03262221, 1.04547294,\n",
      "       0.99870386, 0.98704663, 0.99302961, 0.98836853, 1.00743954,\n",
      "       1.01335303, 0.99364587, 1.00902329, 0.9860584 , 0.98460557,\n",
      "       0.98878248, 0.98107426, 0.99920647, 1.0077809 , 0.97473164,\n",
      "       0.98288987, 1.01004912, 0.99233187, 1.00034666, 1.01946863,\n",
      "       0.99840049, 1.00093382, 0.98359094, 0.9971143 , 0.98137041,\n",
      "       0.98529047, 1.00204814, 1.00839751, 1.00414021, 0.98574966,\n",
      "       0.98716233, 0.99906602, 0.97397031, 1.03028385, 0.97994886,\n",
      "       0.99234349, 0.99225853, 0.99795365, 0.98675076])\n"
     ]
    }
   ],
   "source": [
    "backend = FakeManilaV2()\n",
    "\n",
    "# Max number of optimisation iterations\n",
    "#maxiter = 100\n",
    "maxiter = 1000\n",
    "# Number of quantum measurements each time the quantum circuit is called\n",
    "shotsin = 200\n",
    "noisy_sim = 0\n",
    "measure_fract = 1.0\n",
    "theta = []\n",
    "energy = []\n",
    "cost = []\n",
    "pv = []\n",
    "\n",
    "# We have random outcomes for the measurements.\n",
    "# So for the simulation it is good practice to seed the random number generator\n",
    "seed = 2\n",
    "# Max number of optimisation iterations\n",
    "#maxiter = 100\n",
    "maxiter = 1000\n",
    "for p in range(1,9):\n",
    "    theta = []\n",
    "    for i in range(4*p):\n",
    "        theta.append(1.0)\n",
    "    quantumC = QuantumCircuit(nqubits)\n",
    "    res = run(p, 1.0)\n",
    "    pv.append(p)\n",
    "    energy.append(res.fun)\n",
    "    cost.append(cost_func(res))\n",
    "\n",
    "print(\"p: \" + str(pv))\n",
    "print(\"energy: \" + str(energy))\n",
    "print(\"cost: \" + str(cost))    \n",
    "print(res)"
   ]
  },
  {
   "cell_type": "markdown",
   "id": "f1848fe6",
   "metadata": {},
   "source": [
    "##### Energy and Cost vs Depth p"
   ]
  },
  {
   "cell_type": "code",
   "execution_count": 63,
   "id": "0e789f16",
   "metadata": {},
   "outputs": [
    {
     "data": {
      "image/png": "[encoded data removed]",
      "text/plain": [
       "<Figure size 432x288 with 2 Axes>"
      ]
     },
     "metadata": {
      "needs_background": "light"
     },
     "output_type": "display_data"
    }
   ],
   "source": [
    "fig, (ax1,ax2) = plt.subplots(1, 2)\n",
    "ax1.plot(pv, energy)\n",
    "ax1.set_xlabel('p')\n",
    "ax1.set_ylabel('energy')\n",
    "ax2.plot(pv, cost)\n",
    "ax2.set_xlabel('p')\n",
    "ax2.set_ylabel('cost')\n",
    "plt.subplots_adjust(left=0.1,\n",
    "                    bottom=0.1, \n",
    "                    right=0.9, \n",
    "                    top=0.9, \n",
    "                    wspace=0.4, \n",
    "                    hspace=0.4)\n",
    "      \n",
    "plt.show()"
   ]
  },
  {
   "cell_type": "markdown",
   "id": "d8b6f6ae",
   "metadata": {},
   "source": [
    "#### Quantum Measurement for p = 8"
   ]
  },
  {
   "cell_type": "code",
   "execution_count": 64,
   "id": "bd40092c",
   "metadata": {},
   "outputs": [
    {
     "data": {
      "image/png": "[encoded data removed]",
      "text/plain": [
       "<Figure size 504x360 with 1 Axes>"
      ]
     },
     "execution_count": 64,
     "metadata": {},
     "output_type": "execute_result"
    }
   ],
   "source": [
    "from qiskit.visualization import plot_histogram\n",
    "\n",
    "backend = FakeManilaV2()\n",
    "\n",
    "qc_res = create_qaoa_circ(G, res.x)\n",
    "tqc_res = transpile(qc_res,backend)\n",
    "\n",
    "counts = backend.run(tqc_res, seed_simulator=seed,shots = shotsin).result().get_counts()\n",
    "\n",
    "plot_histogram(counts)"
   ]
  },
  {
   "cell_type": "markdown",
   "id": "6110a155",
   "metadata": {},
   "source": [
    "####  Noisy Simulator p: 1-8, quantum measurefor average top: 20%"
   ]
  },
  {
   "cell_type": "code",
   "execution_count": 65,
   "id": "58c62d1a",
   "metadata": {},
   "outputs": [
    {
     "name": "stdout",
     "output_type": "stream",
     "text": [
      "p: [1, 2, 3, 4, 5, 6, 7, 8]\n",
      "energy: [-3.27, -3.93, -3.85, -3.99, -3.96, -3.975, -3.975, -3.975]\n",
      "cost: [22.074, 96.97, 176.578, 304.794, 488.81, 654.97, 890.818, 1196.602]\n",
      "     fun: -3.975\n",
      "   maxcv: 0.0\n",
      " message: 'Optimization terminated successfully.'\n",
      "    nfev: 603\n",
      "  status: 1\n",
      " success: True\n",
      "       x: array([1.87778971, 1.98537645, 1.01425302, 0.99656861, 1.08138494,\n",
      "       0.78135647, 0.97501307, 1.0617774 , 0.99181511, 0.9874668 ,\n",
      "       0.98410078, 0.97585569, 1.01045628, 1.04528593, 1.04678946,\n",
      "       1.01781947, 1.00719372, 1.98483114, 0.87323454, 1.06700171,\n",
      "       0.90418181, 0.97723335, 1.01473676, 1.03262221, 1.04547294,\n",
      "       0.99870386, 0.98704663, 0.99302961, 0.98836853, 1.00743954,\n",
      "       1.01335303, 0.99364587, 1.00902329, 0.9860584 , 0.98460557,\n",
      "       0.98878248, 0.98107426, 0.99920647, 1.0077809 , 0.97473164,\n",
      "       0.98288987, 1.01004912, 0.99233187, 1.00034666, 1.01946863,\n",
      "       0.99840049, 1.00093382, 0.98359094, 0.9971143 , 0.98137041,\n",
      "       0.98529047, 1.00204814, 1.00839751, 1.00414021, 0.98574966,\n",
      "       0.98716233, 0.99906602, 0.97397031, 1.03028385, 0.97994886,\n",
      "       0.99234349, 0.99225853, 0.99795365, 0.98675076])\n"
     ]
    }
   ],
   "source": [
    "backend = FakeManilaV2()\n",
    "\n",
    "# Max number of optimisation iterations\n",
    "#maxiter = 100\n",
    "maxiter = 1000\n",
    "# Number of quantum measurements each time the quantum circuit is called\n",
    "shotsin = 200\n",
    "noisy_sim = 0\n",
    "measure_fract = 1.0\n",
    "theta = []\n",
    "energy = []\n",
    "cost = []\n",
    "pv = []\n",
    "\n",
    "# We have random outcomes for the measurements.\n",
    "# So for the simulation it is good practice to seed the random number generator\n",
    "seed = 2\n",
    "# Max number of optimisation iterations\n",
    "#maxiter = 100\n",
    "maxiter = 1000\n",
    "for p in range(1,9):\n",
    "    theta = []\n",
    "    for i in range(4*p):\n",
    "        theta.append(1.0)\n",
    "    quantumC = QuantumCircuit(nqubits)\n",
    "    res = run(p, 0.2)\n",
    "    pv.append(p)\n",
    "    energy.append(res.fun)\n",
    "    cost.append(cost_func(res))\n",
    "\n",
    "print(\"p: \" + str(pv))\n",
    "print(\"energy: \" + str(energy))\n",
    "print(\"cost: \" + str(cost))    \n",
    "print(res)"
   ]
  },
  {
   "cell_type": "markdown",
   "id": "554425c7",
   "metadata": {},
   "source": [
    "##### Energy and Cost vs Depth p"
   ]
  },
  {
   "cell_type": "code",
   "execution_count": 66,
   "id": "bcb0d624",
   "metadata": {},
   "outputs": [
    {
     "data": {
      "image/png": "[encoded data removed]",
      "text/plain": [
       "<Figure size 432x288 with 2 Axes>"
      ]
     },
     "metadata": {
      "needs_background": "light"
     },
     "output_type": "display_data"
    }
   ],
   "source": [
    "fig, (ax1,ax2) = plt.subplots(1, 2)\n",
    "ax1.plot(pv, energy)\n",
    "ax1.set_xlabel('p')\n",
    "ax1.set_ylabel('energy')\n",
    "ax2.plot(pv, cost)\n",
    "ax2.set_xlabel('p')\n",
    "ax2.set_ylabel('cost')\n",
    "plt.subplots_adjust(left=0.1,\n",
    "                    bottom=0.1, \n",
    "                    right=0.9, \n",
    "                    top=0.9, \n",
    "                    wspace=0.4, \n",
    "                    hspace=0.4)\n",
    "      \n",
    "plt.show()"
   ]
  },
  {
   "cell_type": "markdown",
   "id": "bae0c699",
   "metadata": {},
   "source": [
    "#### Quantum Measurement for p = 8"
   ]
  },
  {
   "cell_type": "code",
   "execution_count": 67,
   "id": "d7043610",
   "metadata": {},
   "outputs": [
    {
     "data": {
      "image/png": "[encoded data removed]",
      "text/plain": [
       "<Figure size 504x360 with 1 Axes>"
      ]
     },
     "execution_count": 67,
     "metadata": {},
     "output_type": "execute_result"
    }
   ],
   "source": [
    "from qiskit.visualization import plot_histogram\n",
    "\n",
    "backend = FakeManilaV2()\n",
    "\n",
    "qc_res = create_qaoa_circ(G, res.x)\n",
    "tqc_res = transpile(qc_res,backend)\n",
    "\n",
    "counts = backend.run(tqc_res, seed_simulator=seed,shots = shotsin).result().get_counts()\n",
    "\n",
    "plot_histogram(counts)"
   ]
  },
  {
   "cell_type": "markdown",
   "id": "ec82ec66",
   "metadata": {},
   "source": [
    "### Part V QAOA Optimization\n",
    "#### Warm Start\n",
    "\n",
    "#### Select Initial ($\\boldsymbol{\\beta}$, $\\boldsymbol{\\gamma}$) values\n",
    "TheQAOA algorithmis very reliant on finding appropriate angles ($\\boldsymbol{\\beta}$, $\\boldsymbol{\\gamma}$)  that favour good partitions and causes bad partitions to destructively interfere. One of the main obstacles to overcome is determining those optimal\n",
    "angles efficiently. Zhou et al [8] proposed two INTERP and FOURIER.\n",
    "INTERO uses linear interpolation to produce inital point ($\\boldsymbol{\\beta}$, $\\boldsymbol{\\gamma}$) for optimising the QAOA parameters as one iteratively increase the level p. It is suggested ($\\boldsymbol{\\beta}$, $\\boldsymbol{\\gamma}$) = (0.8, 0.35) for $\\boldsymbol{p}$ = 1"
   ]
  },
  {
   "cell_type": "markdown",
   "id": "f2c6d4fb",
   "metadata": {},
   "source": [
    "### Part VI Scale QAOA\n",
    "\n",
    "#### QAOA-in-QAOA\n",
    "#### David-and-Cinquer QAOA (DC-QAOA)\n",
    "#### Grover Mixers QAOA (GM-QAOA)"
   ]
  },
  {
   "cell_type": "markdown",
   "id": "038bb44b",
   "metadata": {},
   "source": [
    "### Part VII Conclusions"
   ]
  },
  {
   "cell_type": "markdown",
   "id": "a5b8fa51",
   "metadata": {},
   "source": [
    "## References<a id=\"references\"></a>\n",
    "1. Farhi, Edward, Jeffrey Goldstone, and Sam Gutmann. \"A quantum approximate optimization algorithm.\" arXiv preprint [arXiv:1411.4028 (2014)](https://arxiv.org/abs/1411.4028).\n",
    "2. Goemans, Michel X., and David P. Williamson. [Journal of the ACM (JACM) 42.6 (1995): 1115-1145](http://www-math.mit.edu/~goemans/PAPERS/maxcut-jacm.pdf).\n",
    "3. Garey, Michael R.; David S. Johnson (1979). Computers and Intractability: A Guide to the Theory of NP-Completeness. W. H. Freeman. ISBN 0-7167-1045-5\n",
    "4. Kandala, Abhinav, et al. \"Hardware-efficient variational quantum eigensolver for small molecules and quantum magnets.\" [Nature 549.7671 (2017): 242](https://www.nature.com/articles/nature23879).\n",
    "5. Farhi, Edward, et al. \"Quantum algorithms for fixed qubit architectures.\" arXiv preprint [arXiv:1703.06199 (2017)](https://arxiv.org/abs/1703.06199).\n",
    "6. Spall, J. C. (1992), [IEEE Transactions on Automatic Control, vol. 37(3), pp. 332–341](https://ieeexplore.ieee.org/document/119632).\n",
    "7. Michael Streif and Martin Leib \"Training the quantum approximate optimization algorithm without access to a quantum processing unit\" (2020) [Quantum Sci. Technol. 5 034008](https://doi.org/10.1088/2058-9565/ab8c2b)\n",
    "8. Zhou, L. et al. Quantum Approximate Optimization Algorithm: Performance, Mechanism, and\n",
    "Implementation on Near-Term Devices,arXiv e-prints, art. arXiv:1812.01041, December 2018\n",
    "9. Harrigan, M.P. Quantum Approximate Optimization of Non-Planar Graph Problems on a Planar Superconducting Processor   https://arxiv.org/abs/2004.04197, accessed Augugt 16, 2022"
   ]
  },
  {
   "cell_type": "code",
   "execution_count": null,
   "id": "3bc07773",
   "metadata": {},
   "outputs": [],
   "source": []
  },
  {
   "cell_type": "code",
   "execution_count": null,
   "id": "ef7e4924",
   "metadata": {},
   "outputs": [],
   "source": []
  }
 ],
 "metadata": {
  "kernelspec": {
   "display_name": "Python 3 (ipykernel)",
   "language": "python",
   "name": "python3"
  },
  "language_info": {
   "codemirror_mode": {
    "name": "ipython",
    "version": 3
   },
   "file_extension": ".py",
   "mimetype": "text/x-python",
   "name": "python",
   "nbconvert_exporter": "python",
   "pygments_lexer": "ipython3",
   "version": "3.9.12"
  },
  "vscode": {
   "interpreter": {
    "hash": "82a5ecfa235c1ae66578ca33c01df8bd059aa6dc6013b9541a30e78a452567e5"
   }
  }
 },
 "nbformat": 4,
 "nbformat_minor": 5
}
